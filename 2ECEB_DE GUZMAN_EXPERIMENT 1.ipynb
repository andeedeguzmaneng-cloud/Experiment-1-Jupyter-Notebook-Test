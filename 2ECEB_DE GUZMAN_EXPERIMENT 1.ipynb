{
 "cells": [
  {
   "cell_type": "markdown",
   "id": "63001daa-e1b3-4e98-9780-6116aa118944",
   "metadata": {},
   "source": [
    "ALPHABET SOUP PROBLEM"
   ]
  },
  {
   "cell_type": "code",
   "execution_count": 11,
   "id": "402a7bf9-36ae-406a-98f6-f9101a80dce8",
   "metadata": {},
   "outputs": [],
   "source": [
    "def alphabet_soup(word):\n",
    "    sorted_letters = sorted(word)\n",
    "    result = ''.join(sorted_letters)\n",
    "    return result"
   ]
  },
  {
   "cell_type": "code",
   "execution_count": 12,
   "id": "e2fdaae1-e437-4a3d-b119-7273cd21a07a",
   "metadata": {},
   "outputs": [
    {
     "name": "stdin",
     "output_type": "stream",
     "text": [
      "Enter a word:  computer\n"
     ]
    },
    {
     "name": "stdout",
     "output_type": "stream",
     "text": [
      "Alphabetically sorted:  cemoprtu\n"
     ]
    }
   ],
   "source": [
    "word = input (\"Enter a word: \")\n",
    "print(\"Alphabetically sorted: \", alphabet_soup(word))"
   ]
  },
  {
   "cell_type": "markdown",
   "id": "26ff84fb-afd4-4b90-9cdb-94b62739e79b",
   "metadata": {},
   "source": [
    "EMOTICON PROBLEM"
   ]
  },
  {
   "cell_type": "code",
   "execution_count": 30,
   "id": "f124c877-8cb8-4e88-b8b4-2f03e4dde55c",
   "metadata": {},
   "outputs": [],
   "source": [
    "def emotify(sentence):\n",
    "    replacements = {\n",
    "        \"smile\": \" :)\",\n",
    "        \"grin\": \" :D\",\n",
    "        \"sad\": \" :((\",\n",
    "        \"mad\": \" >:(\"\n",
    "    }\n",
    "    words = sentence.split()\n",
    "    converted = [replacements.get(word, word) for word in words]\n",
    "    return \"\".join(converted)\n",
    "        "
   ]
  },
  {
   "cell_type": "code",
   "execution_count": 31,
   "id": "b846a99f-aa6d-4bcb-975c-add1f2bc91a5",
   "metadata": {},
   "outputs": [
    {
     "name": "stdin",
     "output_type": "stream",
     "text": [
      "Enter a sentence:  I am mad\n"
     ]
    },
    {
     "name": "stdout",
     "output_type": "stream",
     "text": [
      "Converted sentence:  Iam >:(\n"
     ]
    }
   ],
   "source": [
    "sentence = input (\"Enter a sentence: \")\n",
    "print(\"Converted sentence: \", emotify(sentence))"
   ]
  },
  {
   "cell_type": "markdown",
   "id": "12a28ab2-6898-4de0-87ca-5ae11a17688e",
   "metadata": {},
   "source": [
    "UNPACKING LIST PROBLEM"
   ]
  },
  {
   "cell_type": "code",
   "execution_count": 44,
   "id": "02379263-7814-4389-b255-cb686405518a",
   "metadata": {},
   "outputs": [],
   "source": [
    "def unpack_list(lst):\n",
    "    first, *middle, last = lst\n",
    "    return first, middle, last"
   ]
  },
  {
   "cell_type": "code",
   "execution_count": 46,
   "id": "92bdb25c-2fb7-4cb4-b8d5-53883f4a078b",
   "metadata": {},
   "outputs": [
    {
     "name": "stdin",
     "output_type": "stream",
     "text": [
      "Enter number seperated by spaces:  1 2 3 4 5 6\n"
     ]
    },
    {
     "name": "stdout",
     "output_type": "stream",
     "text": [
      "First:  1\n",
      "Middle:  [2, 3, 4, 5]\n",
      "Last:  6\n"
     ]
    }
   ],
   "source": [
    "user_input = input(\"Enter number seperated by spaces: \")\n",
    "lst = [int(x) for x in user_input.split()]\n",
    "first, middle, last = unpack_list(lst)\n",
    "print(\"First: \", first)\n",
    "print(\"Middle: \", middle)\n",
    "print(\"Last: \", last)"
   ]
  },
  {
   "cell_type": "code",
   "execution_count": null,
   "id": "d8d8bf51-d606-41b3-865b-c708c8cc957e",
   "metadata": {},
   "outputs": [],
   "source": []
  }
 ],
 "metadata": {
  "kernelspec": {
   "display_name": "Python 3 (ipykernel)",
   "language": "python",
   "name": "python3"
  },
  "language_info": {
   "codemirror_mode": {
    "name": "ipython",
    "version": 3
   },
   "file_extension": ".py",
   "mimetype": "text/x-python",
   "name": "python",
   "nbconvert_exporter": "python",
   "pygments_lexer": "ipython3",
   "version": "3.13.5"
  }
 },
 "nbformat": 4,
 "nbformat_minor": 5
}
